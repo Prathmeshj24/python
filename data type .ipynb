{
 "cells": [
  {
   "cell_type": "markdown",
   "id": "28e65f78",
   "metadata": {},
   "source": [
    "# data type\n"
   ]
  },
  {
   "cell_type": "markdown",
   "id": "063c7cd0",
   "metadata": {},
   "source": [
    "# 1 string data type"
   ]
  },
  {
   "cell_type": "code",
   "execution_count": 1,
   "id": "a3fbe846",
   "metadata": {},
   "outputs": [
    {
     "name": "stdout",
     "output_type": "stream",
     "text": [
      " hello world\n",
      "python programing\n"
     ]
    }
   ],
   "source": [
    "var1 = \" hello world\"\n",
    "var2 = \"python programing\"\n",
    "print(var1)\n",
    "print(var2)"
   ]
  },
  {
   "cell_type": "code",
   "execution_count": 2,
   "id": "2bdf60e1",
   "metadata": {},
   "outputs": [
    {
     "name": "stdout",
     "output_type": "stream",
     "text": [
      "var1[0]: h\n",
      "var2(1:4): yth\n"
     ]
    }
   ],
   "source": [
    "#To access substrings, use the square brackets for slicing along with the index or indices to obtain \n",
    "#your substring. For example −\n",
    "var1 = \"hello world\"\n",
    "var2 = \"python programing\"\n",
    "print(\"var1[0]:\", var1[0])\n",
    "print(\"var2(1:4):\", var2[1:4])"
   ]
  },
  {
   "cell_type": "code",
   "execution_count": 3,
   "id": "be7db280",
   "metadata": {},
   "outputs": [
    {
     "name": "stdout",
     "output_type": "stream",
     "text": [
      "updated string:- hello\tpython\n"
     ]
    }
   ],
   "source": [
    "#update string\n",
    "var = \"hello world\"\n",
    "print('updated string:-', var[:5] + \"\\tpython\")"
   ]
  },
  {
   "cell_type": "code",
   "execution_count": 4,
   "id": "f63eeec3",
   "metadata": {},
   "outputs": [
    {
     "name": "stdout",
     "output_type": "stream",
     "text": [
      "My name is Zara and weight is 21 kg!\n"
     ]
    }
   ],
   "source": [
    "#string formatting operator\n",
    "print (\"My name is %s and weight is %d kg!\" % ('Zara', 21))\n"
   ]
  },
  {
   "cell_type": "markdown",
   "id": "f4f5d313",
   "metadata": {},
   "source": [
    "# Built-in String Methods"
   ]
  },
  {
   "cell_type": "code",
   "execution_count": 5,
   "id": "9fdf4b2a",
   "metadata": {},
   "outputs": [
    {
     "name": "stdout",
     "output_type": "stream",
     "text": [
      "Hello, and welcome to my world\n"
     ]
    }
   ],
   "source": [
    "#capitalize()\n",
    "txt=\"hello, and welcome to my world\"\n",
    "x=txt.capitalize()\n",
    "print(x)"
   ]
  },
  {
   "cell_type": "code",
   "execution_count": 6,
   "id": "4bfc9cec",
   "metadata": {},
   "outputs": [
    {
     "name": "stdout",
     "output_type": "stream",
     "text": [
      "hello, and welcome to my world\n"
     ]
    }
   ],
   "source": [
    "#casefold()\n",
    "txt=\"HELLO, AND WELCOME TO MY WORLD\"\n",
    "x=txt.casefold()\n",
    "print(x)"
   ]
  },
  {
   "cell_type": "code",
   "execution_count": 7,
   "id": "50abf92f",
   "metadata": {},
   "outputs": [
    {
     "name": "stdout",
     "output_type": "stream",
     "text": [
      "  banana  \n"
     ]
    }
   ],
   "source": [
    "#center()\n",
    "txt=\"banana\"\n",
    "x=txt.center(10)\n",
    "print(x)"
   ]
  },
  {
   "cell_type": "code",
   "execution_count": 8,
   "id": "0be5f758",
   "metadata": {},
   "outputs": [
    {
     "name": "stdout",
     "output_type": "stream",
     "text": [
      "4\n"
     ]
    }
   ],
   "source": [
    "#count()\n",
    "txt='I love apples, apple are my favourite fruite'\n",
    "x=txt.count('p')\n",
    "print(x)"
   ]
  },
  {
   "cell_type": "code",
   "execution_count": 9,
   "id": "f05b5880",
   "metadata": {},
   "outputs": [
    {
     "name": "stdout",
     "output_type": "stream",
     "text": [
      "b'my name stale'\n"
     ]
    }
   ],
   "source": [
    "#encode()\n",
    "txt='my name stale'\n",
    "x=txt.encode()\n",
    "print(x)"
   ]
  },
  {
   "cell_type": "code",
   "execution_count": 10,
   "id": "7426ff8e",
   "metadata": {},
   "outputs": [
    {
     "name": "stdout",
     "output_type": "stream",
     "text": [
      "True\n"
     ]
    }
   ],
   "source": [
    "#isalnum()\n",
    "txt=\"company12\"\n",
    "x=txt.isalnum()\n",
    "print(x)"
   ]
  },
  {
   "cell_type": "code",
   "execution_count": 11,
   "id": "ba14d8fe",
   "metadata": {},
   "outputs": [
    {
     "name": "stdout",
     "output_type": "stream",
     "text": [
      "True\n"
     ]
    }
   ],
   "source": [
    "#isalpha\n",
    "txt=\"apple\"\n",
    "x=txt.isalpha()\n",
    "print(x)"
   ]
  },
  {
   "cell_type": "code",
   "execution_count": 12,
   "id": "8840928a",
   "metadata": {},
   "outputs": [
    {
     "name": "stdout",
     "output_type": "stream",
     "text": [
      "HELLO MY FRIEND\n"
     ]
    }
   ],
   "source": [
    "#upper()\n",
    "txt=\"hello my friend\"\n",
    "print(txt.upper())"
   ]
  },
  {
   "cell_type": "code",
   "execution_count": 13,
   "id": "9ad44058",
   "metadata": {},
   "outputs": [
    {
     "name": "stdout",
     "output_type": "stream",
     "text": [
      "hello\n"
     ]
    }
   ],
   "source": [
    "#lower()\n",
    "txt=\"HELLO\"\n",
    "x=txt.lower()\n",
    "print(x)"
   ]
  },
  {
   "cell_type": "code",
   "execution_count": 14,
   "id": "f8a56594",
   "metadata": {},
   "outputs": [
    {
     "name": "stdout",
     "output_type": "stream",
     "text": [
      "mY NAME iS petter\n"
     ]
    }
   ],
   "source": [
    "#swapcase()\n",
    "txt=\"My name Is PETTER\"\n",
    "x=txt.swapcase()\n",
    "print(x)"
   ]
  },
  {
   "cell_type": "code",
   "execution_count": 15,
   "id": "2b18a874",
   "metadata": {},
   "outputs": [
    {
     "name": "stdout",
     "output_type": "stream",
     "text": [
      "i like apple\n"
     ]
    }
   ],
   "source": [
    "#replace()\n",
    "txt=\"i like banana\"\n",
    "x=txt.replace(\"banana\",\"apple\")\n",
    "print(x)"
   ]
  },
  {
   "cell_type": "code",
   "execution_count": 16,
   "id": "a58acdf4",
   "metadata": {},
   "outputs": [
    {
     "name": "stdout",
     "output_type": "stream",
     "text": [
      "True\n"
     ]
    }
   ],
   "source": [
    "#startswith()\n",
    "txt=\"welcome to my home\"\n",
    "x=txt.startswith(\"welcome\")\n",
    "print(x)"
   ]
  },
  {
   "cell_type": "code",
   "execution_count": 17,
   "id": "cfd8cdcc",
   "metadata": {},
   "outputs": [
    {
     "name": "stdout",
     "output_type": "stream",
     "text": [
      "john peter vicky\n"
     ]
    }
   ],
   "source": [
    "#join()\n",
    "txt=(\"john\",\"peter\",\"vicky\")\n",
    "x=\" \".join(txt)\n",
    "print(x)"
   ]
  },
  {
   "cell_type": "code",
   "execution_count": 18,
   "id": "44402bbb",
   "metadata": {},
   "outputs": [
    {
     "name": "stdout",
     "output_type": "stream",
     "text": [
      "True\n"
     ]
    }
   ],
   "source": [
    "#isdecimal()\n",
    "txt=\"\\u0033\"\n",
    "x=txt.isdecimal()\n",
    "print(x)"
   ]
  },
  {
   "cell_type": "code",
   "execution_count": 19,
   "id": "df94d6ba",
   "metadata": {},
   "outputs": [
    {
     "name": "stdout",
     "output_type": "stream",
     "text": [
      "True\n"
     ]
    }
   ],
   "source": [
    "#isdigit\n",
    "txt=\"123\"\n",
    "x=txt.isdigit()\n",
    "print(x)"
   ]
  },
  {
   "cell_type": "code",
   "execution_count": 20,
   "id": "03793e0e",
   "metadata": {},
   "outputs": [
    {
     "name": "stdout",
     "output_type": "stream",
     "text": [
      "True\n"
     ]
    }
   ],
   "source": [
    "#islower\n",
    "txt=\"hello world!\"\n",
    "x=txt.islower()\n",
    "print(x)"
   ]
  },
  {
   "cell_type": "code",
   "execution_count": 21,
   "id": "05e8fb0b",
   "metadata": {},
   "outputs": [
    {
     "name": "stdout",
     "output_type": "stream",
     "text": [
      "True\n"
     ]
    }
   ],
   "source": [
    "#istitle\n",
    "txt=  \"Hello, And Welcome My World\"\n",
    "x = txt.istitle()\n",
    "print(x)"
   ]
  },
  {
   "cell_type": "code",
   "execution_count": 22,
   "id": "baee1612",
   "metadata": {},
   "outputs": [
    {
     "name": "stdout",
     "output_type": "stream",
     "text": [
      "True\n"
     ]
    }
   ],
   "source": [
    "#isprintable\n",
    "txt = \"Hello! Are you #1?\"\n",
    "\n",
    "x = txt.isprintable()\n",
    "\n",
    "print(x)\n"
   ]
  },
  {
   "cell_type": "code",
   "execution_count": 23,
   "id": "9133f336",
   "metadata": {},
   "outputs": [
    {
     "name": "stdout",
     "output_type": "stream",
     "text": [
      "9\n"
     ]
    }
   ],
   "source": [
    "#rfind\n",
    "txt = \"Mi casa, su casa.\"\n",
    "\n",
    "x = txt.rfind(\"su\")\n",
    "\n",
    "print(x)\n"
   ]
  },
  {
   "cell_type": "markdown",
   "id": "8c4032d3",
   "metadata": {},
   "source": [
    "\n",
    "# 2 list data types\n"
   ]
  },
  {
   "cell_type": "code",
   "execution_count": 24,
   "id": "5034e962",
   "metadata": {},
   "outputs": [
    {
     "name": "stdout",
     "output_type": "stream",
     "text": [
      "[1, 2, 3, 4, 3]\n"
     ]
    }
   ],
   "source": [
    "#create a list\n",
    "list1=[1,2,3,4,3]\n",
    "print(list1)"
   ]
  },
  {
   "cell_type": "code",
   "execution_count": 25,
   "id": "e0ab0fab",
   "metadata": {},
   "outputs": [
    {
     "name": "stdout",
     "output_type": "stream",
     "text": [
      "mango\n",
      "['banana', 'cherry', 'mango']\n"
     ]
    }
   ],
   "source": [
    "#access list items\n",
    "list2=[\"banana\",\"cherry\",\"mango\"]\n",
    "print(list2[2])\n",
    "print(list2[0:3:1])"
   ]
  },
  {
   "cell_type": "code",
   "execution_count": 26,
   "id": "3d2b3e33",
   "metadata": {},
   "outputs": [
    {
     "name": "stdout",
     "output_type": "stream",
     "text": [
      "['apple', 'blackcurrent', 'watermelon', 'kiwi', 'banana']\n"
     ]
    }
   ],
   "source": [
    "#Change List Items\n",
    "thislist=[\"apple\",\"mango\",\"cherry\",\"kiwi\",\"banana\"]\n",
    "thislist[1:3]=[\"blackcurrent\",\"watermelon\"]\n",
    "print(thislist)\n"
   ]
  },
  {
   "cell_type": "code",
   "execution_count": 27,
   "id": "c839399c",
   "metadata": {},
   "outputs": [
    {
     "name": "stdout",
     "output_type": "stream",
     "text": [
      "[1, 2, 3, 4, 5, 6, 7, 'orange']\n"
     ]
    }
   ],
   "source": [
    "#Add List Items\n",
    "thislist=[1,2,3,4,5,6,7]\n",
    "thislist.append(\"orange\")\n",
    "print(thislist)"
   ]
  },
  {
   "cell_type": "code",
   "execution_count": 28,
   "id": "a57cdaf4",
   "metadata": {},
   "outputs": [
    {
     "name": "stdout",
     "output_type": "stream",
     "text": [
      "['a', 'b', 'c', 'e']\n"
     ]
    }
   ],
   "source": [
    "#remove items\n",
    "thislist=['a','b','c','d','e']\n",
    "thislist.remove('d')\n",
    "print(thislist)"
   ]
  },
  {
   "cell_type": "code",
   "execution_count": 29,
   "id": "c19f3c48",
   "metadata": {},
   "outputs": [
    {
     "name": "stdout",
     "output_type": "stream",
     "text": [
      "[100, 200, 201, 405, 500, 600, 800]\n",
      "\n",
      " ['orange', 'mango', 'banana', 'apple']\n"
     ]
    }
   ],
   "source": [
    "#sort list\n",
    "#asending order\n",
    "thislist=[200,100,500,800,600,201,405]\n",
    "thislist.sort()\n",
    "print(thislist)\n",
    "\n",
    "#sort desending\n",
    "thislist=[\"orange\",\"apple\",\"mango\",\"banana\"]\n",
    "thislist.sort(reverse=True)\n",
    "print(\"\\n\",thislist)\n"
   ]
  },
  {
   "cell_type": "code",
   "execution_count": 30,
   "id": "41fe55fc",
   "metadata": {},
   "outputs": [
    {
     "name": "stdout",
     "output_type": "stream",
     "text": [
      "[1, 2, 3, 4, 5, 6]\n"
     ]
    }
   ],
   "source": [
    "#Copy Lists\n",
    "thislist=[1,2,3,4,5,6]\n",
    "mylist=thislist.copy()\n",
    "print(mylist)"
   ]
  },
  {
   "cell_type": "code",
   "execution_count": 31,
   "id": "f3231223",
   "metadata": {},
   "outputs": [
    {
     "name": "stdout",
     "output_type": "stream",
     "text": [
      "('a', 'b', '#', '@')\n",
      "\n",
      " ['p', 'd', 1, 2]\n",
      "\n",
      " [1, 2, 3, 4, 's', 's2']\n"
     ]
    }
   ],
   "source": [
    "#join list\n",
    "# using + operator \n",
    "list1=(\"a\",\"b\")\n",
    "list2=(\"#\",\"@\")\n",
    "list3=list1+list2\n",
    "print(list3)\n",
    "\n",
    "#using append method join list\n",
    "list1=[\"p\",\"d\"]\n",
    "list2=[1,2]\n",
    "for x in list2:\n",
    "    list1.append(x)\n",
    "print(\"\\n\",list1)\n",
    "\n",
    "#extend() method join list\n",
    "list1=[1,2,3,4]\n",
    "list2=[\"s\",\"s2\"]\n",
    "list1.extend(list2)\n",
    "print(\"\\n\",list1)"
   ]
  },
  {
   "cell_type": "code",
   "execution_count": 32,
   "id": "e8dc11e5",
   "metadata": {},
   "outputs": [
    {
     "name": "stdout",
     "output_type": "stream",
     "text": [
      "[1, 2, 'orange', 3, 4]\n"
     ]
    }
   ],
   "source": [
    "#add a element specific position\n",
    "list1=[1,2,3,4]\n",
    "list1.insert(2,\"orange\")\n",
    "print(list1)"
   ]
  },
  {
   "cell_type": "code",
   "execution_count": 33,
   "id": "6123ca4f",
   "metadata": {},
   "outputs": [
    {
     "data": {
      "text/plain": [
       "5"
      ]
     },
     "execution_count": 33,
     "metadata": {},
     "output_type": "execute_result"
    }
   ],
   "source": [
    "#length of list\n",
    "len(list1)"
   ]
  },
  {
   "cell_type": "code",
   "execution_count": 34,
   "id": "46bfb9d0",
   "metadata": {},
   "outputs": [
    {
     "data": {
      "text/plain": [
       "[1, 2, 'orange', 3, 4, 1, 2, 'orange', 3, 4]"
      ]
     },
     "execution_count": 34,
     "metadata": {},
     "output_type": "execute_result"
    }
   ],
   "source": [
    "#repetation in list\n",
    "list1*2"
   ]
  },
  {
   "cell_type": "markdown",
   "id": "04a252f3",
   "metadata": {},
   "source": [
    "# 3 tuple data type"
   ]
  },
  {
   "cell_type": "code",
   "execution_count": 35,
   "id": "c39439c0",
   "metadata": {},
   "outputs": [
    {
     "name": "stdout",
     "output_type": "stream",
     "text": [
      "('banana', 'apple', 'mango', 'potato')\n"
     ]
    }
   ],
   "source": [
    "thistuple=(\"banana\",\"apple\",\"mango\",\"potato\")\n",
    "print(thistuple)"
   ]
  },
  {
   "cell_type": "code",
   "execution_count": 36,
   "id": "f96ce9b9",
   "metadata": {},
   "outputs": [
    {
     "name": "stdout",
     "output_type": "stream",
     "text": [
      "('mango', 'apple', 'mango', 'kiwi')\n"
     ]
    }
   ],
   "source": [
    "#allow duplicate value in tuple \n",
    "thistuple=(\"mango\",\"apple\",\"mango\",\"kiwi\")\n",
    "print(thistuple)"
   ]
  },
  {
   "cell_type": "code",
   "execution_count": 6,
   "id": "52a9f454",
   "metadata": {},
   "outputs": [
    {
     "name": "stdout",
     "output_type": "stream",
     "text": [
      "('apple', 'mango', 'kiwi', 'orange')\n"
     ]
    }
   ],
   "source": [
    "#add items (tuple convert in to list add yours items and convert back into tuple )\n",
    "thistuple =(\"apple\", \"mango\",\"kiwi\")\n",
    "y = list(thistuple)\n",
    "y.append(\"orange\")\n",
    "thistuple=tuple(y)\n",
    "print(thistuple)"
   ]
  },
  {
   "cell_type": "code",
   "execution_count": 8,
   "id": "d998f7a0",
   "metadata": {},
   "outputs": [
    {
     "name": "stdout",
     "output_type": "stream",
     "text": [
      "('apple', 'mango', 'kiwi', 'orange')\n"
     ]
    }
   ],
   "source": [
    "# add tupe to tuple \n",
    "thistuple = ( \"apple\",\"mango\",\"kiwi\")\n",
    "y =(\"orange\",)\n",
    "thistuple += y\n",
    "print(thistuple)"
   ]
  },
  {
   "cell_type": "code",
   "execution_count": 10,
   "id": "4fb0cb96",
   "metadata": {},
   "outputs": [
    {
     "name": "stdout",
     "output_type": "stream",
     "text": [
      "('orange', 'kiwi', 'apple')\n"
     ]
    }
   ],
   "source": [
    "#remove items \n",
    "thistuple =(\"mango\",\"orange\",\"kiwi\",\"apple\")\n",
    "y = list(thistuple)\n",
    "y.remove(\"mango\")\n",
    "thistuple=tuple(y)\n",
    "print(thistuple)"
   ]
  },
  {
   "cell_type": "code",
   "execution_count": 13,
   "id": "f12f8cf6",
   "metadata": {},
   "outputs": [
    {
     "ename": "NameError",
     "evalue": "name 'tuple1' is not defined",
     "output_type": "error",
     "traceback": [
      "\u001b[1;31m---------------------------------------------------------------------------\u001b[0m",
      "\u001b[1;31mNameError\u001b[0m                                 Traceback (most recent call last)",
      "Input \u001b[1;32mIn [13]\u001b[0m, in \u001b[0;36m<cell line: 4>\u001b[1;34m()\u001b[0m\n\u001b[0;32m      2\u001b[0m tuple1\u001b[38;5;241m=\u001b[39m(\u001b[38;5;124m\"\u001b[39m\u001b[38;5;124ma\u001b[39m\u001b[38;5;124m\"\u001b[39m,\u001b[38;5;124m\"\u001b[39m\u001b[38;5;124mb\u001b[39m\u001b[38;5;124m\"\u001b[39m,\u001b[38;5;124m\"\u001b[39m\u001b[38;5;124mc\u001b[39m\u001b[38;5;124m\"\u001b[39m,\u001b[38;5;124m\"\u001b[39m\u001b[38;5;124md\u001b[39m\u001b[38;5;124m\"\u001b[39m)\n\u001b[0;32m      3\u001b[0m \u001b[38;5;28;01mdel\u001b[39;00m tuple1\n\u001b[1;32m----> 4\u001b[0m \u001b[38;5;28mprint\u001b[39m(\u001b[43mtuple1\u001b[49m)\n",
      "\u001b[1;31mNameError\u001b[0m: name 'tuple1' is not defined"
     ]
    }
   ],
   "source": [
    "#delete tuple\n",
    "tuple1=(\"a\",\"b\",\"c\",\"d\")\n",
    "del tuple1\n",
    "print(tuple1)"
   ]
  },
  {
   "cell_type": "code",
   "execution_count": 15,
   "id": "84c93546",
   "metadata": {},
   "outputs": [
    {
     "name": "stdout",
     "output_type": "stream",
     "text": [
      "()\n",
      "('orange', 'mango')\n",
      "('apple', 'banana')\n"
     ]
    }
   ],
   "source": [
    "#creating non empty tuple \n",
    "tup=()\n",
    "print(tup)\n",
    "#one way of creation \n",
    "tup = 'orange', 'mango'\n",
    "print(tup)\n",
    "# another for doing the same \n",
    "tup = ('apple','banana')\n",
    "print(tup)"
   ]
  },
  {
   "cell_type": "code",
   "execution_count": 17,
   "id": "71c159c5",
   "metadata": {},
   "outputs": [
    {
     "name": "stdout",
     "output_type": "stream",
     "text": [
      "(100, 200, 300, 400, 'apple', 'mango')\n"
     ]
    }
   ],
   "source": [
    "#code of concatenating 2 tuples \n",
    "tup1 =(100,200,300,400)\n",
    "tup2= (\"apple\",\"mango\")\n",
    "tup3=tup1+tup2\n",
    "print(tup3)"
   ]
  },
  {
   "cell_type": "code",
   "execution_count": 37,
   "id": "2a3b88cd",
   "metadata": {},
   "outputs": [
    {
     "name": "stdout",
     "output_type": "stream",
     "text": [
      "((1, 2, 3, 4, 5), ('mango', 'kiwi'))\n"
     ]
    }
   ],
   "source": [
    "#code for creating nested tuple \n",
    "tup1= (1,2,3,4,5)\n",
    "tup2=(\"mango\",\"kiwi\")\n",
    "tup3=(tup1,tup2)\n",
    "print(tup3)"
   ]
  },
  {
   "cell_type": "code",
   "execution_count": 19,
   "id": "1b565e48",
   "metadata": {},
   "outputs": [
    {
     "name": "stdout",
     "output_type": "stream",
     "text": [
      "('mango', 'banana', 'mango', 'banana', 'mango', 'banana', 'mango', 'banana')\n"
     ]
    }
   ],
   "source": [
    "#code to create a tuple with repetition\n",
    "tup2=(\"mango\",\"banana\")*4\n",
    "print(tup2)"
   ]
  },
  {
   "cell_type": "code",
   "execution_count": 21,
   "id": "243c32c4",
   "metadata": {},
   "outputs": [
    {
     "ename": "TypeError",
     "evalue": "'tuple' object does not support item assignment",
     "output_type": "error",
     "traceback": [
      "\u001b[1;31m---------------------------------------------------------------------------\u001b[0m",
      "\u001b[1;31mTypeError\u001b[0m                                 Traceback (most recent call last)",
      "Input \u001b[1;32mIn [21]\u001b[0m, in \u001b[0;36m<cell line: 3>\u001b[1;34m()\u001b[0m\n\u001b[0;32m      1\u001b[0m \u001b[38;5;66;03m#code to test tuple are immutable\u001b[39;00m\n\u001b[0;32m      2\u001b[0m tuple1\u001b[38;5;241m=\u001b[39m(\u001b[38;5;241m1\u001b[39m,\u001b[38;5;241m2\u001b[39m,\u001b[38;5;241m3\u001b[39m,\u001b[38;5;241m4\u001b[39m,\u001b[38;5;241m5\u001b[39m)\n\u001b[1;32m----> 3\u001b[0m tuple1[\u001b[38;5;241m0\u001b[39m]\u001b[38;5;241m=\u001b[39m \u001b[38;5;241m4\u001b[39m\n\u001b[0;32m      4\u001b[0m \u001b[38;5;28mprint\u001b[39m(tuple1)\n",
      "\u001b[1;31mTypeError\u001b[0m: 'tuple' object does not support item assignment"
     ]
    }
   ],
   "source": [
    "#code to test tuple are immutable\n",
    "tuple1=(1,2,3,4,5)\n",
    "tuple1[0]= 4\n",
    "print(tuple1)"
   ]
  },
  {
   "cell_type": "code",
   "execution_count": 25,
   "id": "36c70212",
   "metadata": {},
   "outputs": [
    {
     "name": "stdout",
     "output_type": "stream",
     "text": [
      "(3, 4, 5, 6, 7, 8, 9)\n",
      "(1, 2, 3)\n",
      "(2, 4, 6)\n"
     ]
    }
   ],
   "source": [
    "#code to test slicing \n",
    "tuple2=(1,2,3,4,5,6,7,8,9)\n",
    "print(tuple2[2:])\n",
    "print(tuple2[0:3])\n",
    "print(tuple2[1:7:2])\n"
   ]
  },
  {
   "cell_type": "code",
   "execution_count": 27,
   "id": "2b7aa4b9",
   "metadata": {},
   "outputs": [
    {
     "name": "stdout",
     "output_type": "stream",
     "text": [
      "8\n"
     ]
    }
   ],
   "source": [
    "#code for printing  the length of tuple \n",
    "tuple2 = (1,2,3,4,5,6,7,8)\n",
    "print(len(tuple2))"
   ]
  },
  {
   "cell_type": "code",
   "execution_count": 30,
   "id": "00a56308",
   "metadata": {},
   "outputs": [
    {
     "name": "stdout",
     "output_type": "stream",
     "text": [
      "(1, 2, 3, 4, 5, 6)\n",
      "('p', 'y', 't', 'h', 'o', 'n')\n"
     ]
    }
   ],
   "source": [
    "#converting list into tuple\n",
    "list1 =[1,2,3,4,5,6]\n",
    "print(tuple(list1))\n",
    "\n",
    "#converting string into tuple\n",
    "string1 = \"python\"\n",
    "print(tuple(string1))"
   ]
  },
  {
   "cell_type": "markdown",
   "id": "8b12f009",
   "metadata": {},
   "source": [
    "# 4 Dictionary data types"
   ]
  },
  {
   "cell_type": "code",
   "execution_count": 34,
   "id": "9120a3dd",
   "metadata": {},
   "outputs": [
    {
     "name": "stdout",
     "output_type": "stream",
     "text": [
      "dictionery with use of inter key. \n",
      "{1: 'seven', 2: 'five', 3: 'six', 4: 'nine'}\n",
      "\n",
      "dictionery with use of mixed key.\n",
      "{'nine': 'five', 1: (1, 2, 3, 4)}\n"
     ]
    }
   ],
   "source": [
    "#creating a dictionery \n",
    "# with a integer key\n",
    "dict1 = {1:\"seven\", 2:\"five\", 3:\"six\", 4:\"nine\"}\n",
    "print(\"dictionery with use of inter key. \")\n",
    "print(dict1)\n",
    "\n",
    "#with a mixed key\n",
    "dict2 = {\"nine\":\"five\", 1:(1,2,3,4)}\n",
    "print(\"\\ndictionery with use of mixed key.\")\n",
    "print(dict2)"
   ]
  },
  {
   "cell_type": "code",
   "execution_count": 47,
   "id": "f8ea84c1",
   "metadata": {},
   "outputs": [
    {
     "name": "stdout",
     "output_type": "stream",
     "text": [
      "empty dictionery:\n",
      "{}\n",
      "\n",
      "dictionery with the use of dict():\n",
      "{1: 'seven', 2: 'five'}\n",
      "\n",
      "dictionery with each item as pair: \n",
      "{1: 'seven', 2: 'for'}\n"
     ]
    }
   ],
   "source": [
    "#creating an empty dictionery\n",
    "dict1={}\n",
    "print(\"empty dictionery:\")\n",
    "print(dict1)\n",
    "\n",
    "#creating a dictionery with use of dict() method\n",
    "dict2=dict({1:\"seven\", 2:\"five\"})\n",
    "print(\"\\ndictionery with the use of dict():\")\n",
    "print(dict2)\n",
    "\n",
    "#creating a dictionery with each item as pair \n",
    "dict4= dict([(1,\"seven\",), (2,\"for\")])\n",
    "print(\"\\ndictionery with each item as pair: \")\n",
    "print(dict4)"
   ]
  },
  {
   "cell_type": "markdown",
   "id": "c8469c2b",
   "metadata": {},
   "source": [
    "# dictionery method "
   ]
  },
  {
   "cell_type": "code",
   "execution_count": 16,
   "id": "a5230ec0",
   "metadata": {},
   "outputs": [
    {
     "name": "stdout",
     "output_type": "stream",
     "text": [
      "{1: 'python', 2: 'java', 3: 'ruby', 4: 'scala'}\n",
      "{}\n",
      "java\n",
      "dict_items([(1, 'python'), (2, 'java'), (3, 'ruby'), (4, 'scala')])\n",
      "dict_keys([1, 2, 3, 4])\n",
      "{1: 'python', 3: 'ruby', 4: 'scala'}\n",
      "{1: 'python', 3: 'ruby'}\n",
      "{1: 'python', 3: 'ruby', 2: 'java'}\n",
      "dict_values(['python', 'ruby', 'java'])\n"
     ]
    }
   ],
   "source": [
    "#demo for all dictionery method \n",
    "dict1={1:\"python\", 2:\"java\", 3:\"ruby\",4:\"scala\"}\n",
    "\n",
    "#copy() method \n",
    "dict2=dict1.copy()\n",
    "print(dict2)\n",
    "\n",
    "#clear() method \n",
    "dict1.clear()\n",
    "print(dict1)\n",
    "\n",
    "#get() method \n",
    "print(dict2.get(2))\n",
    "\n",
    "#items() method \n",
    "print(dict2.items())\n",
    "\n",
    "#keys() method\n",
    "print(dict2.keys())\n",
    "\n",
    "#pop() method \n",
    "dict2.pop(2)\n",
    "print(dict2)\n",
    "\n",
    "#popitem() method \n",
    "dict2.popitem()\n",
    "print(dict2)\n",
    "\n",
    "#update() method \n",
    "dict2.update({2:\"java\"})\n",
    "print(dict2)\n",
    "\n",
    "#values() method\n",
    "print(dict2.values())"
   ]
  },
  {
   "cell_type": "markdown",
   "id": "a9e2351f",
   "metadata": {},
   "source": [
    "# sets"
   ]
  },
  {
   "cell_type": "code",
   "execution_count": 18,
   "id": "3369f7c8",
   "metadata": {},
   "outputs": [
    {
     "name": "stdout",
     "output_type": "stream",
     "text": [
      "initial blank set:\n",
      "set()\n"
     ]
    }
   ],
   "source": [
    "#creating a set\n",
    "set1=set()\n",
    "print(\"initial blank set:\")\n",
    "print(set1)"
   ]
  },
  {
   "cell_type": "code",
   "execution_count": 19,
   "id": "5b3d83de",
   "metadata": {},
   "outputs": [
    {
     "name": "stdout",
     "output_type": "stream",
     "text": [
      "set with use of string:\n",
      "{'p', 'n', 'h', 't', 'y', 'o'}\n"
     ]
    }
   ],
   "source": [
    "#creating a set using of string \n",
    "set2=set(\"python\")\n",
    "print(\"set with use of string:\")\n",
    "print(set2)"
   ]
  },
  {
   "cell_type": "code",
   "execution_count": 21,
   "id": "5dcc923c",
   "metadata": {},
   "outputs": [
    {
     "name": "stdout",
     "output_type": "stream",
     "text": [
      "set with use of object:\n",
      "{'e', 'o', 'f', 's', 'n', 'r', 'v', 'm'}\n"
     ]
    }
   ],
   "source": [
    "#creating a set with use of constructors\n",
    "string = \"sevenmforsevenm\"\n",
    "set3= set(string)\n",
    "print(\"set with use of object:\")\n",
    "print(set3)"
   ]
  },
  {
   "cell_type": "code",
   "execution_count": 23,
   "id": "0e7645bc",
   "metadata": {},
   "outputs": [
    {
     "name": "stdout",
     "output_type": "stream",
     "text": [
      "set with the use of list:\n",
      "{'seven', 'for'}\n"
     ]
    }
   ],
   "source": [
    "#creating a set with use of list\n",
    "set4=set([\"seven\",\"for\",\"seven\"])\n",
    "print(\"set with the use of list:\")\n",
    "print(set4)"
   ]
  },
  {
   "cell_type": "code",
   "execution_count": 27,
   "id": "fcc8b0d9",
   "metadata": {},
   "outputs": [
    {
     "name": "stdout",
     "output_type": "stream",
     "text": [
      "initial blank set:\n",
      "set()\n",
      "\n",
      "set after adding three element:\n",
      "{(4, 5), 1, 2}\n",
      "\n",
      " set after add the element 1 to 5 \n",
      "{1, 2, 3, 4, 5, (4, 5)}\n"
     ]
    }
   ],
   "source": [
    "#using add() method \n",
    "set1=set()\n",
    "print(\"initial blank set:\")\n",
    "print(set1)\n",
    "\n",
    "#adiing a element and  tuple to the set \n",
    "set1.add(1)\n",
    "set1.add(2)\n",
    "set1.add((4,5))\n",
    "print(\"\\nset after adding three element:\")\n",
    "print(set1)\n",
    "\n",
    "#adding element to the set using iteroter\n",
    "for i in range(1,6):\n",
    "    set1.add(i)\n",
    "print(\"\\n set after add the element 1 to 5 \")\n",
    "print(set1)"
   ]
  },
  {
   "cell_type": "code",
   "execution_count": 28,
   "id": "bbd8a185",
   "metadata": {},
   "outputs": [
    {
     "name": "stdout",
     "output_type": "stream",
     "text": [
      "set after addition of element using update:\n",
      "{1, 2, 3, 4, 5, 10, 11}\n"
     ]
    }
   ],
   "source": [
    "#update() method\n",
    "set1=set([1,2,3,4,5])\n",
    "set1.update([10,11])\n",
    "print(\"set after addition of element using update:\")\n",
    "print(set1)"
   ]
  },
  {
   "cell_type": "code",
   "execution_count": 8,
   "id": "822530f3",
   "metadata": {},
   "outputs": [
    {
     "name": "stdout",
     "output_type": "stream",
     "text": [
      "initial set:\n",
      "{1, 2, 3, 4, 5, 6, 7, 8, 9, 10, 11, 12, 13, 14}\n",
      "\n",
      "set after removel two element\n",
      "{1, 2, 3, 4, 6, 8, 9, 10, 11, 12, 13, 14}\n",
      "\n",
      "set after discarding two element\n",
      "{1, 2, 3, 4, 6, 10, 11, 12, 13, 14}\n",
      "\n",
      "after removeing range of element\n",
      "{6, 10, 11, 12, 13, 14}\n"
     ]
    }
   ],
   "source": [
    "#using remove() and discharge method()\n",
    "#creating a set\n",
    "set2= set([1,2,3,4,5,6,7,8,9,10,11,12,13,14])\n",
    "print(\"initial set:\")\n",
    "print(set2)\n",
    "\n",
    "#using remove method \n",
    "set2.remove(5)\n",
    "set2.remove(7)\n",
    "print(\"\\nset after removel two element\")\n",
    "print(set2)\n",
    "\n",
    "#using discard() method \n",
    "set2.discard(8)\n",
    "set2.discard(9)\n",
    "print(\"\\nset after discarding two element\")\n",
    "print(set2)\n",
    "\n",
    "#using a iterotar method\n",
    "for i in range(1,5):\n",
    "    set2.remove(i)\n",
    "print(\"\\nafter removeing range of element\")\n",
    "print(set2)"
   ]
  },
  {
   "cell_type": "code",
   "execution_count": 10,
   "id": "e7bfc362",
   "metadata": {},
   "outputs": [
    {
     "name": "stdout",
     "output_type": "stream",
     "text": [
      "initial set:\n",
      "{1, 2, 3, 4, 5, 6}\n",
      "\n",
      "set after poping an element:\n",
      "{2, 3, 4, 5, 6}\n"
     ]
    }
   ],
   "source": [
    "#pop() method\n",
    "set1=set([1,2,3,4,5,6])\n",
    "print(\"initial set:\")\n",
    "print(set1)\n",
    "\n",
    "#set uding pop method \n",
    "set1.pop()\n",
    "print(\"\\nset after poping an element:\")\n",
    "print(set1)"
   ]
  },
  {
   "cell_type": "code",
   "execution_count": 15,
   "id": "4b5d7153",
   "metadata": {},
   "outputs": [
    {
     "name": "stdout",
     "output_type": "stream",
     "text": [
      "initial set:\n",
      "{'for', 'seven', 'java', 'python'}\n",
      "\n",
      "set after clearing all element\n",
      "set()\n"
     ]
    }
   ],
   "source": [
    "#clear() method \n",
    "set1={\"seven\",\"for\",\"java\",\"python\"}\n",
    "print(\"initial set:\")\n",
    "print(set1)\n",
    "\n",
    "#removing all element using clear() method \n",
    "set1.clear()\n",
    "print(\"\\nset after clearing all element\")\n",
    "print(set1)"
   ]
  },
  {
   "cell_type": "code",
   "execution_count": null,
   "id": "ed4dde5d",
   "metadata": {},
   "outputs": [],
   "source": []
  }
 ],
 "metadata": {
  "kernelspec": {
   "display_name": "Python 3 (ipykernel)",
   "language": "python",
   "name": "python3"
  },
  "language_info": {
   "codemirror_mode": {
    "name": "ipython",
    "version": 3
   },
   "file_extension": ".py",
   "mimetype": "text/x-python",
   "name": "python",
   "nbconvert_exporter": "python",
   "pygments_lexer": "ipython3",
   "version": "3.9.12"
  }
 },
 "nbformat": 4,
 "nbformat_minor": 5
}
